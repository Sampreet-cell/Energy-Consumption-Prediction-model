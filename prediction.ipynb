{
 "cells": [
  {
   "cell_type": "code",
   "execution_count": 9,
   "id": "77f6cea1-770d-4164-8be2-bb69673b6126",
   "metadata": {},
   "outputs": [],
   "source": [
    "import pandas as pd\n",
    "import joblib"
   ]
  },
  {
   "cell_type": "code",
   "execution_count": 10,
   "id": "f598818c-1280-40cc-b175-f8d9b41b6888",
   "metadata": {},
   "outputs": [],
   "source": [
    "loaded_model = joblib.load('Energy Consumption Prediction.joblib')"
   ]
  },
  {
   "cell_type": "code",
   "execution_count": 11,
   "id": "4d3d8095-993c-48ed-b1c6-665b605255bd",
   "metadata": {},
   "outputs": [],
   "source": [
    "new_data_point = pd.DataFrame({\n",
    "    'Year': [2023],\n",
    "    'Access to electricity (% of population)': [99.5],\n",
    "    'Access to clean fuels for cooking': [87.4],\n",
    "    'Renewable-electricity-generating-capacity-per-capita': [118.77],\n",
    "    'Financial flows to developing countries (US $)': [480000],\n",
    "    'Renewable energy share in the total final energy consumption (%)': [2.86],\n",
    "    'Electricity from fossil fuels (TWh)': [19.83],\n",
    "    'Electricity from nuclear (TWh)': [0],\n",
    "    'Electricity from renewables (TWh)': [2.49],\n",
    "    'Low-carbon electricity (% electricity)': [11.15],\n",
    "    'Energy intensity level of primary energy (MJ/$2017 PPP GDP)': [6.8],\n",
    "    'Value_co2_emissions_kt_by_country': [30489.99],\n",
    "    'Renewables (% equivalent primary energy)': [4.36],\n",
    "    'gdp_growth': [50],\n",
    "    'gdp_per_capita': [2473.08],\n",
    "})"
   ]
  },
  {
   "cell_type": "code",
   "execution_count": 12,
   "id": "45843137-8916-4604-8ced-ea4c319ea00b",
   "metadata": {},
   "outputs": [
    {
     "name": "stdout",
     "output_type": "stream",
     "text": [
      "Predicted Primary Energy Consumption per Capita: 15934.2451171875\n"
     ]
    }
   ],
   "source": [
    "predicted_energy_consumption = loaded_model.predict(new_data_point)\n",
    "print(f'Predicted Primary Energy Consumption per Capita: {predicted_energy_consumption[0]}')"
   ]
  },
  {
   "cell_type": "code",
   "execution_count": null,
   "id": "39a3155e-af0d-4dbb-b663-c88450da71d4",
   "metadata": {},
   "outputs": [],
   "source": []
  }
 ],
 "metadata": {
  "kernelspec": {
   "display_name": "Python 3 (ipykernel)",
   "language": "python",
   "name": "python3"
  },
  "language_info": {
   "codemirror_mode": {
    "name": "ipython",
    "version": 3
   },
   "file_extension": ".py",
   "mimetype": "text/x-python",
   "name": "python",
   "nbconvert_exporter": "python",
   "pygments_lexer": "ipython3",
   "version": "3.9.12"
  }
 },
 "nbformat": 4,
 "nbformat_minor": 5
}
